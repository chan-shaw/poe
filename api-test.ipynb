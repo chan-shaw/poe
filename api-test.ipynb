{
 "cells": [
  {
   "cell_type": "code",
   "execution_count": 2,
   "metadata": {},
   "outputs": [
    {
     "name": "stdout",
     "output_type": "stream",
     "text": [
      "{'data': [{'id': 'Assistant', 'object': 'model', 'created': 0, 'owned_by': 'poe'}, {'id': 'Web-Search', 'object': 'model', 'created': 0, 'owned_by': 'poe'}, {'id': 'App-Creator', 'object': 'model', 'created': 0, 'owned_by': 'poe'}, {'id': 'Claude-3.7-Sonnet', 'object': 'model', 'created': 0, 'owned_by': 'poe'}, {'id': 'GPT-4o', 'object': 'model', 'created': 0, 'owned_by': 'poe'}, {'id': 'GPT-4.5-Preview', 'object': 'model', 'created': 0, 'owned_by': 'poe'}, {'id': 'Deepseek-V3-FW', 'object': 'model', 'created': 0, 'owned_by': 'poe'}, {'id': 'Gemini-2.0-Flash', 'object': 'model', 'created': 0, 'owned_by': 'poe'}, {'id': 'Grok-2', 'object': 'model', 'created': 0, 'owned_by': 'poe'}, {'id': 'Claude-3.5-Sonnet', 'object': 'model', 'created': 0, 'owned_by': 'poe'}, {'id': 'Gemini-1.5-Pro', 'object': 'model', 'created': 0, 'owned_by': 'poe'}, {'id': 'Llama-3-70b-Groq', 'object': 'model', 'created': 0, 'owned_by': 'poe'}, {'id': 'Claude-3.5-Haiku', 'object': 'model', 'created': 0, 'owned_by': 'poe'}, {'id': 'o1', 'object': 'model', 'created': 0, 'owned_by': 'poe'}, {'id': 'Mistral-Medium', 'object': 'model', 'created': 0, 'owned_by': 'poe'}, {'id': 'ChatGPT-4o-Latest', 'object': 'model', 'created': 0, 'owned_by': 'poe'}, {'id': 'o3-mini', 'object': 'model', 'created': 0, 'owned_by': 'poe'}, {'id': 'o3-mini-high', 'object': 'model', 'created': 0, 'owned_by': 'poe'}, {'id': 'o1-mini', 'object': 'model', 'created': 0, 'owned_by': 'poe'}, {'id': 'Deepseek-v3-T', 'object': 'model', 'created': 0, 'owned_by': 'poe'}, {'id': 'Gemini-1.5-Flash', 'object': 'model', 'created': 0, 'owned_by': 'poe'}, {'id': 'Llama-3.3-70B-FW', 'object': 'model', 'created': 0, 'owned_by': 'poe'}, {'id': 'Llama-3.3-70B', 'object': 'model', 'created': 0, 'owned_by': 'poe'}, {'id': 'GPT-4o-Mini', 'object': 'model', 'created': 0, 'owned_by': 'poe'}, {'id': 'Llama-3.3-70B-FP16', 'object': 'model', 'created': 0, 'owned_by': 'poe'}, {'id': 'Claude-3.7-Sonnet-Reasoning', 'object': 'model', 'created': 0, 'owned_by': 'poe'}, {'id': 'DeepSeek-R1', 'object': 'model', 'created': 0, 'owned_by': 'poe'}, {'id': 'DeepSeek-R1-FW', 'object': 'model', 'created': 0, 'owned_by': 'poe'}, {'id': 'Claude-3-Opus', 'object': 'model', 'created': 0, 'owned_by': 'poe'}, {'id': 'PPLX-Sonar-Rsn-Pro', 'object': 'model', 'created': 0, 'owned_by': 'poe'}, {'id': 'PPLX-Sonar-Reasoning', 'object': 'model', 'created': 0, 'owned_by': 'poe'}, {'id': 'GPT-Researcher', 'object': 'model', 'created': 0, 'owned_by': 'poe'}, {'id': 'FLUX-pro-1.1-ultra', 'object': 'model', 'created': 0, 'owned_by': 'poe'}, {'id': 'Imagen3', 'object': 'model', 'created': 0, 'owned_by': 'poe'}, {'id': 'ElevenLabs', 'object': 'model', 'created': 0, 'owned_by': 'poe'}, {'id': 'Cartesia', 'object': 'model', 'created': 0, 'owned_by': 'poe'}, {'id': 'FLUX-pro-1.1', 'object': 'model', 'created': 0, 'owned_by': 'poe'}, {'id': 'Playground-v3', 'object': 'model', 'created': 0, 'owned_by': 'poe'}, {'id': 'Imagen3-Fast', 'object': 'model', 'created': 0, 'owned_by': 'poe'}, {'id': 'Ideogram-v2', 'object': 'model', 'created': 0, 'owned_by': 'poe'}, {'id': 'StableDiffusion3.5-L', 'object': 'model', 'created': 0, 'owned_by': 'poe'}, {'id': 'FLUX-pro', 'object': 'model', 'created': 0, 'owned_by': 'poe'}, {'id': 'FLUX-schnell', 'object': 'model', 'created': 0, 'owned_by': 'poe'}, {'id': 'Llama-3.1-70B', 'object': 'model', 'created': 0, 'owned_by': 'poe'}, {'id': 'Llama-3.1-405B', 'object': 'model', 'created': 0, 'owned_by': 'poe'}, {'id': 'FLUX-dev', 'object': 'model', 'created': 0, 'owned_by': 'poe'}, {'id': 'Llama-3.2-90B-FW-131k', 'object': 'model', 'created': 0, 'owned_by': 'poe'}, {'id': 'Llama-3.1-405B-T', 'object': 'model', 'created': 0, 'owned_by': 'poe'}, {'id': 'Ideogram', 'object': 'model', 'created': 0, 'owned_by': 'poe'}, {'id': 'TopazLabs', 'object': 'model', 'created': 0, 'owned_by': 'poe'}, {'id': 'PlaygroundUpscaler', 'object': 'model', 'created': 0, 'owned_by': 'poe'}, {'id': 'Playground-v2.5', 'object': 'model', 'created': 0, 'owned_by': 'poe'}, {'id': 'Runway', 'object': 'model', 'created': 0, 'owned_by': 'poe'}, {'id': 'Veo-2', 'object': 'model', 'created': 0, 'owned_by': 'poe'}, {'id': 'Dream-Machine', 'object': 'model', 'created': 0, 'owned_by': 'poe'}, {'id': 'Pika-2.0', 'object': 'model', 'created': 0, 'owned_by': 'poe'}, {'id': 'Pika-1.5', 'object': 'model', 'created': 0, 'owned_by': 'poe'}, {'id': 'Pika-1.0', 'object': 'model', 'created': 0, 'owned_by': 'poe'}, {'id': 'Hailuo-Live', 'object': 'model', 'created': 0, 'owned_by': 'poe'}, {'id': 'Hailuo-AI', 'object': 'model', 'created': 0, 'owned_by': 'poe'}, {'id': 'Haiper2.0', 'object': 'model', 'created': 0, 'owned_by': 'poe'}, {'id': 'Kling-Pro-v1.5', 'object': 'model', 'created': 0, 'owned_by': 'poe'}, {'id': 'HunyuanVideo', 'object': 'model', 'created': 0, 'owned_by': 'poe'}, {'id': 'Grok-beta', 'object': 'model', 'created': 0, 'owned_by': 'poe'}, {'id': 'o1-preview', 'object': 'model', 'created': 0, 'owned_by': 'poe'}, {'id': 'Aya-Expanse-32B', 'object': 'model', 'created': 0, 'owned_by': 'poe'}, {'id': 'Llama-3.2-11B', 'object': 'model', 'created': 0, 'owned_by': 'poe'}, {'id': 'Llama-3.1-Nemotron', 'object': 'model', 'created': 0, 'owned_by': 'poe'}, {'id': 'LivePortrait', 'object': 'model', 'created': 0, 'owned_by': 'poe'}, {'id': 'Llama-3.1-405B-FW-128k', 'object': 'model', 'created': 0, 'owned_by': 'poe'}, {'id': 'Llama-3.1-8B-T-128k', 'object': 'model', 'created': 0, 'owned_by': 'poe'}, {'id': 'Llama-3.1-70B-FW-128k', 'object': 'model', 'created': 0, 'owned_by': 'poe'}, {'id': 'Llama-3.1-70B-T-128k', 'object': 'model', 'created': 0, 'owned_by': 'poe'}, {'id': 'Llama-3.1-8B-FW-128k', 'object': 'model', 'created': 0, 'owned_by': 'poe'}, {'id': 'Gemma-2-27b-T', 'object': 'model', 'created': 0, 'owned_by': 'poe'}, {'id': 'Claude-3-Sonnet', 'object': 'model', 'created': 0, 'owned_by': 'poe'}, {'id': 'Claude-3-Haiku', 'object': 'model', 'created': 0, 'owned_by': 'poe'}, {'id': 'Llama-3.1-8B', 'object': 'model', 'created': 0, 'owned_by': 'poe'}, {'id': 'Gemini-1.5-Flash-128k', 'object': 'model', 'created': 0, 'owned_by': 'poe'}, {'id': 'Gemini-1.5-Pro-128k', 'object': 'model', 'created': 0, 'owned_by': 'poe'}, {'id': 'Gemini-1.5-Flash-1M', 'object': 'model', 'created': 0, 'owned_by': 'poe'}, {'id': 'Gemini-1.5-Pro-2M', 'object': 'model', 'created': 0, 'owned_by': 'poe'}, {'id': 'GPT-4o-Mini-128k', 'object': 'model', 'created': 0, 'owned_by': 'poe'}, {'id': 'GPT-4o-128k', 'object': 'model', 'created': 0, 'owned_by': 'poe'}, {'id': 'ChatGPT-4o-Latest-128k', 'object': 'model', 'created': 0, 'owned_by': 'poe'}, {'id': 'GPT-4-Turbo', 'object': 'model', 'created': 0, 'owned_by': 'poe'}, {'id': 'Gemini-1.5-Pro-Search', 'object': 'model', 'created': 0, 'owned_by': 'poe'}, {'id': 'Gemini-1.0-Pro', 'object': 'model', 'created': 0, 'owned_by': 'poe'}, {'id': 'Gemini-1.5-Flash-Search', 'object': 'model', 'created': 0, 'owned_by': 'poe'}, {'id': 'StableDiffusion3-2B', 'object': 'model', 'created': 0, 'owned_by': 'poe'}, {'id': 'SD3-Medium', 'object': 'model', 'created': 0, 'owned_by': 'poe'}, {'id': 'Llama-3-70b-Inst-FW', 'object': 'model', 'created': 0, 'owned_by': 'poe'}, {'id': 'Mixtral8x22b-Inst-FW', 'object': 'model', 'created': 0, 'owned_by': 'poe'}, {'id': 'Command-R', 'object': 'model', 'created': 0, 'owned_by': 'poe'}, {'id': 'Mistral-Large-2', 'object': 'model', 'created': 0, 'owned_by': 'poe'}, {'id': 'Mistral-Large-2-128k', 'object': 'model', 'created': 0, 'owned_by': 'poe'}, {'id': 'DALL-E-3', 'object': 'model', 'created': 0, 'owned_by': 'poe'}, {'id': 'RekaCore', 'object': 'model', 'created': 0, 'owned_by': 'poe'}, {'id': 'RekaFlash', 'object': 'model', 'created': 0, 'owned_by': 'poe'}, {'id': 'Command-R-Plus', 'object': 'model', 'created': 0, 'owned_by': 'poe'}, {'id': 'Claude-3.5-Sonnet-June', 'object': 'model', 'created': 0, 'owned_by': 'poe'}, {'id': 'GPT-3.5-Turbo', 'object': 'model', 'created': 0, 'owned_by': 'poe'}, {'id': 'GPT-3.5-Turbo-16k', 'object': 'model', 'created': 0, 'owned_by': 'poe'}, {'id': 'GPT-4-Turbo-128k', 'object': 'model', 'created': 0, 'owned_by': 'poe'}, {'id': 'Claude-3.5-Sonnet-200k', 'object': 'model', 'created': 0, 'owned_by': 'poe'}, {'id': 'Claude-3.5-Haiku-200k', 'object': 'model', 'created': 0, 'owned_by': 'poe'}, {'id': 'Claude-3.5-Sonnet-June-200k', 'object': 'model', 'created': 0, 'owned_by': 'poe'}, {'id': 'Claude-3-Sonnet-200k', 'object': 'model', 'created': 0, 'owned_by': 'poe'}, {'id': 'Claude-3-Haiku-200k', 'object': 'model', 'created': 0, 'owned_by': 'poe'}, {'id': 'Claude-3-Opus-200k', 'object': 'model', 'created': 0, 'owned_by': 'poe'}, {'id': 'Mixtral-8x7B-Chat', 'object': 'model', 'created': 0, 'owned_by': 'poe'}, {'id': 'Qwen2.5-Coder-32B', 'object': 'model', 'created': 0, 'owned_by': 'poe'}, {'id': 'Qwen2-72B-Instruct-T', 'object': 'model', 'created': 0, 'owned_by': 'poe'}, {'id': 'Qwen-1.5-110B-T', 'object': 'model', 'created': 0, 'owned_by': 'poe'}, {'id': 'Qwen-72B-T', 'object': 'model', 'created': 0, 'owned_by': 'poe'}, {'id': 'Recraft-V3', 'object': 'model', 'created': 0, 'owned_by': 'poe'}, {'id': 'Luma-Photon', 'object': 'model', 'created': 0, 'owned_by': 'poe'}, {'id': 'Luma-Photon-Flash', 'object': 'model', 'created': 0, 'owned_by': 'poe'}, {'id': 'Llama-3-70B-T', 'object': 'model', 'created': 0, 'owned_by': 'poe'}, {'id': 'GPT-4o-Aug', 'object': 'model', 'created': 0, 'owned_by': 'poe'}, {'id': 'GPT-4o-Aug-128k', 'object': 'model', 'created': 0, 'owned_by': 'poe'}, {'id': 'GPT-4-Classic', 'object': 'model', 'created': 0, 'owned_by': 'poe'}, {'id': 'GPT-4-Classic-0314', 'object': 'model', 'created': 0, 'owned_by': 'poe'}, {'id': 'Google-PaLM', 'object': 'model', 'created': 0, 'owned_by': 'poe'}, {'id': 'Llama-3-8b-Groq', 'object': 'model', 'created': 0, 'owned_by': 'poe'}, {'id': 'Llama-3-8B-T', 'object': 'model', 'created': 0, 'owned_by': 'poe'}, {'id': 'MythoMax-L2-13B', 'object': 'model', 'created': 0, 'owned_by': 'poe'}, {'id': 'Solar-Pro', 'object': 'model', 'created': 0, 'owned_by': 'poe'}, {'id': 'GPT-3.5-Turbo-Instruct', 'object': 'model', 'created': 0, 'owned_by': 'poe'}, {'id': 'GPT-3.5-Turbo-Raw', 'object': 'model', 'created': 0, 'owned_by': 'poe'}, {'id': 'f1-preview', 'object': 'model', 'created': 0, 'owned_by': 'poe'}, {'id': 'f1-mini-preview', 'object': 'model', 'created': 0, 'owned_by': 'poe'}, {'id': 'Mixtral-8x7b-Groq', 'object': 'model', 'created': 0, 'owned_by': 'poe'}, {'id': 'remove-background', 'object': 'model', 'created': 0, 'owned_by': 'poe'}, {'id': 'Mistral-7B-v0.3-T', 'object': 'model', 'created': 0, 'owned_by': 'poe'}, {'id': 'Tako', 'object': 'model', 'created': 0, 'owned_by': 'poe'}, {'id': 'Llama-3.1-405B-FP16', 'object': 'model', 'created': 0, 'owned_by': 'poe'}, {'id': 'Llama-3.1-405B-Base', 'object': 'model', 'created': 0, 'owned_by': 'poe'}, {'id': 'Llama-3.1-8B-FP16', 'object': 'model', 'created': 0, 'owned_by': 'poe'}, {'id': 'Llama-3.1-70B-FP16', 'object': 'model', 'created': 0, 'owned_by': 'poe'}, {'id': 'Llama-3-70B-FP16', 'object': 'model', 'created': 0, 'owned_by': 'poe'}, {'id': 'Hermes-3-70B', 'object': 'model', 'created': 0, 'owned_by': 'poe'}, {'id': 'SD3-Turbo', 'object': 'model', 'created': 0, 'owned_by': 'poe'}, {'id': 'Flux-1-Schnell-FW', 'object': 'model', 'created': 0, 'owned_by': 'poe'}, {'id': 'Flux-1-Dev-FW', 'object': 'model', 'created': 0, 'owned_by': 'poe'}, {'id': 'Mochi-preview', 'object': 'model', 'created': 0, 'owned_by': 'poe'}, {'id': 'StableDiffusion3.5-T', 'object': 'model', 'created': 0, 'owned_by': 'poe'}, {'id': 'Grok-beta-128k', 'object': 'model', 'created': 0, 'owned_by': 'poe'}, {'id': 'Flux-Schnell-T', 'object': 'model', 'created': 0, 'owned_by': 'poe'}, {'id': 'Claude-2-100k', 'object': 'model', 'created': 0, 'owned_by': 'poe'}]}\n"
     ]
    }
   ],
   "source": [
    "import requests\n",
    "\n",
    "POE_GQL_URL = \"https://poe.com/api/gql_POST\"\n",
    "POE_GQL_MODEL_HASH = \"b24b2f2f6da147b3345eec1a433ed17b6e1332df97dea47622868f41078a40cc\"\n",
    "\n",
    "class PoeError(Exception):\n",
    "    pass\n",
    "\n",
    "class PoeClient:\n",
    "    def __init__(self, bot_name, access_key):\n",
    "        self.bot_name = bot_name\n",
    "        self.access_key = access_key\n",
    "        self.client = requests.Session()\n",
    "        self.client.headers.update({\n",
    "            \"Authorization\": f\"Bearer {self.access_key}\",\n",
    "            \"User-Agent\": \"Mozilla/5.0 (Windows NT 10.0; Win64; x64) AppleWebKit/537.36 (KHTML, like Gecko) Chrome/120.0.0.0 Safari/537.36\",\n",
    "            \"Content-Type\": \"application/json\",\n",
    "            \"Accept\": \"*/*\",\n",
    "            \"Accept-Language\": \"zh-TW,zh;q=0.9,en-US;q=0.8,en;q=0.7\",\n",
    "            \"Origin\": \"https://poe.com\",\n",
    "            \"Referer\": \"https://poe.com\",\n",
    "            \"Sec-Fetch-Dest\": \"empty\",\n",
    "            \"Sec-Fetch-Mode\": \"cors\",\n",
    "            \"Sec-Fetch-Site\": \"same-origin\",\n",
    "            \"poegraphql\": \"1\"\n",
    "        })\n",
    "\n",
    "    def get_model_list(self, language_code=None):\n",
    "        payload = {\n",
    "            \"queryName\": \"ExploreBotsListPaginationQuery\",\n",
    "            \"variables\": {\n",
    "                \"categoryName\": \"defaultCategory\",\n",
    "                \"count\": 150\n",
    "            },\n",
    "            \"extensions\": {\n",
    "                \"hash\": POE_GQL_MODEL_HASH\n",
    "            }\n",
    "        }\n",
    "\n",
    "        if language_code:\n",
    "            self.client.headers.update({\"Cookie\": f\"Poe-Language-Code={language_code}; p-b=1\"})\n",
    "\n",
    "        response = self.client.post(POE_GQL_URL, json=payload)\n",
    "\n",
    "        if not response.ok:\n",
    "            raise PoeError(f\"API response error - Status code: {response.status_code}, Content: {response.text}\")\n",
    "\n",
    "        data = response.json()\n",
    "        model_list = []\n",
    "\n",
    "        edges = data.get(\"data\", {}).get(\"exploreBotsConnection\", {}).get(\"edges\", [])\n",
    "        for edge in edges:\n",
    "            handle = edge.get(\"node\", {}).get(\"handle\")\n",
    "            if handle:\n",
    "                model_list.append({\n",
    "                    \"id\": handle,\n",
    "                    \"object\": \"model\",\n",
    "                    \"created\": 0,\n",
    "                    \"owned_by\": \"poe\"\n",
    "                })\n",
    "\n",
    "        if not model_list:\n",
    "            raise PoeError(\"Model list is empty\")\n",
    "\n",
    "        return {\"data\": model_list}\n",
    "\n",
    "# Usage example\n",
    "client = PoeClient(\"bot_name\", \"access_key\")\n",
    "try:\n",
    "    model_list_response = client.get_model_list(language_code=\"en\")\n",
    "    print(model_list_response)\n",
    "except PoeError as e:\n",
    "    print(e)"
   ]
  },
  {
   "cell_type": "markdown",
   "metadata": {},
   "source": [
    "通过上述代码，可以获取 poe现在支持的模型，并将其打印出来。\n",
    "#TODO\n",
    "将格式化输出的信息在前端展示并通过 openai 的接口调用"
   ]
  }
 ],
 "metadata": {
  "kernelspec": {
   "display_name": ".venv",
   "language": "python",
   "name": "python3"
  },
  "language_info": {
   "codemirror_mode": {
    "name": "ipython",
    "version": 3
   },
   "file_extension": ".py",
   "mimetype": "text/x-python",
   "name": "python",
   "nbconvert_exporter": "python",
   "pygments_lexer": "ipython3",
   "version": "3.13.2"
  }
 },
 "nbformat": 4,
 "nbformat_minor": 2
}
